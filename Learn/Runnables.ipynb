{
 "cells": [
  {
   "cell_type": "code",
   "execution_count": 1,
   "metadata": {},
   "outputs": [
    {
     "name": "stdout",
     "output_type": "stream",
     "text": [
      "{'fib': [0, 1, 1]}\n",
      "{'fib': [0, 1, 1, 2]}\n",
      "{'fib': [0, 1, 1, 2, 3]}\n",
      "{'fib': [0, 1, 1, 2, 3, 5]}\n",
      "{'fib': [0, 1, 1, 2, 3, 5, 8]}\n"
     ]
    }
   ],
   "source": [
    "from langchain_core.runnables import RunnableLambda\n",
    "\n",
    "def next_fib_fn(d):\n",
    "  return d['fib'] + [d['fib'][-1] + d['fib'][-2]]\n",
    "\n",
    "fib_branch = RunnableLambda(next_fib_fn)\n",
    "running_state = {'fib': [0, 1]}\n",
    "for i in range(5):\n",
    "  running_state['fib'] = fib_branch.invoke(running_state)\n",
    "  print(running_state)"
   ]
  },
  {
   "cell_type": "code",
   "execution_count": 2,
   "metadata": {},
   "outputs": [
    {
     "name": "stdout",
     "output_type": "stream",
     "text": [
      "{'n': 8, 'fib': [0, 1]}\n",
      "{'n': 8, 'fib': [0, 1, 1]}\n",
      "{'n': 8, 'fib': [0, 1, 1, 2]}\n"
     ]
    }
   ],
   "source": [
    "from langchain_core.runnables import RunnableAssign\n",
    "\n",
    "def get_initial_state():\n",
    "  n = 8\n",
    "  fib = [0, 1]\n",
    "  return locals()\n",
    "\n",
    "initial_state = get_initial_state()\n",
    "rstate_chain = RunnableAssign({'fib': fib_branch})\n",
    "running_state = initial_state.copy()\n",
    "print(running_state)\n",
    "running_state = rstate_chain.invoke(running_state)\n",
    "print(running_state)\n",
    "running_state = rstate_chain.invoke(running_state)\n",
    "print(running_state)"
   ]
  },
  {
   "cell_type": "code",
   "execution_count": 3,
   "metadata": {},
   "outputs": [
    {
     "name": "stdout",
     "output_type": "stream",
     "text": [
      "{'n': 8, 'fib': [0, 1, 1]}\n",
      "{'n': 8, 'fib': [0, 1, 1, 2]}\n",
      "{'n': 8, 'fib': [0, 1, 1, 2, 3]}\n",
      "{'n': 8, 'fib': [0, 1, 1, 2, 3, 5]}\n",
      "{'n': 8, 'fib': [0, 1, 1, 2, 3, 5, 8]}\n",
      "{'n': 8, 'fib': [0, 1, 1, 2, 3, 5, 8, 13]}\n"
     ]
    }
   ],
   "source": [
    "running_state = initial_state.copy()\n",
    "while len(running_state['fib']) < running_state['n']:\n",
    "  running_state = rstate_chain.invoke(running_state)\n",
    "  print(running_state)"
   ]
  }
 ],
 "metadata": {
  "kernelspec": {
   "display_name": "Python 3",
   "language": "python",
   "name": "python3"
  },
  "language_info": {
   "codemirror_mode": {
    "name": "ipython",
    "version": 3
   },
   "file_extension": ".py",
   "mimetype": "text/x-python",
   "name": "python",
   "nbconvert_exporter": "python",
   "pygments_lexer": "ipython3",
   "version": "3.11.9"
  }
 },
 "nbformat": 4,
 "nbformat_minor": 2
}
